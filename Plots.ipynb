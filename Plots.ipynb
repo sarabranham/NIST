{
 "cells": [
  {
   "cell_type": "code",
   "execution_count": 20,
   "metadata": {
    "collapsed": true
   },
   "outputs": [],
   "source": [
    "import matplotlib.pyplot as plt\n",
    "from sympy import mpmath\n",
    "from mpmath import fp\n",
    "import sympy\n",
    "import numpy as np\n",
    "fp.cplot(fp.gamma, points=100000)"
   ]
  },
  {
   "cell_type": "code",
   "execution_count": 7,
   "metadata": {},
   "outputs": [
    {
     "name": "stdout",
     "output_type": "stream",
     "text": [
      "Real Component:  1.04081632653\n",
      "Imaginary Component:  6.62869394004\n"
     ]
    }
   ],
   "source": [
    "z = complex(1.040816326530397, 6.628693940038696)\n",
    "print \"Real Component: \", z.real\n",
    "print \"Imaginary Component: \", z.imag"
   ]
  },
  {
   "cell_type": "code",
   "execution_count": 8,
   "metadata": {},
   "outputs": [
    {
     "name": "stdout",
     "output_type": "stream",
     "text": [
      "Conjugate:  (1.04081632653-6.62869394004j)\n",
      "Phase:  1.41505114475\n"
     ]
    }
   ],
   "source": [
    "print \"Conjugate: \", fp.conj(z)\n",
    "print \"Phase: \", fp.arg(z)"
   ]
  },
  {
   "cell_type": "code",
   "execution_count": 9,
   "metadata": {},
   "outputs": [
    {
     "name": "stdout",
     "output_type": "stream",
     "text": [
      "Polar:  (6.709909237558878, 1.4150511447541154)\n",
      "Rect:  (-1.04081632653-6.62869394004j)\n"
     ]
    }
   ],
   "source": [
    "print \"Polar: \", fp.polar(z)\n",
    "print \"Rect: \", fp.rect(z, fp.pi)"
   ]
  },
  {
   "cell_type": "code",
   "execution_count": 10,
   "metadata": {
    "collapsed": true
   },
   "outputs": [],
   "source": [
    "s = [[100000000.0, (1.040816326530397-6.628693940038696e-07j), (-2.2967252729880438e-06+0.2886150127017568j), (-2.2967252729880438e-06+0.2886150127017568j), (-1.040816326530397+6.628693940038696e-07j)], [950000000.0, (1.0408163265306123-7.3448132956773e-09j), (-2.5448479710819952e-08+0.28861501272920004j), (-2.5448479710819952e-08+0.28861501272920004j), (-1.0408163265306123+7.3448132956773e-09j)], [1800000000.0, (1.0408163265306123-2.045893210692509e-09j), (-7.088658318034534e-09+0.2886150127292031j), (-7.088658318034534e-09+0.2886150127292031j), (-1.0408163265306123+2.045893210692509e-09j)]]\n",
    "x = []\n",
    "s11 = []; s21 = []; s12 = []; s22 = []\n",
    "for list in s:\n",
    "    for i in range(len(list)):\n",
    "        if i == 0:\n",
    "            x.append(list[i])\n",
    "        if i == 1:\n",
    "            s11.append(list[i])\n",
    "        if i == 2:\n",
    "            s12.append(list[i])\n",
    "        if i == 3:\n",
    "            s21.append(list[i])\n",
    "        if i == 4:\n",
    "            s22.append(list[i])"
   ]
  },
  {
   "cell_type": "code",
   "execution_count": 11,
   "metadata": {},
   "outputs": [
    {
     "name": "stdout",
     "output_type": "stream",
     "text": [
      "[100000000.0, 950000000.0, 1800000000.0]\n",
      "[(1.040816326530397-6.628693940038696e-07j), (1.0408163265306123-7.3448132956773e-09j), (1.0408163265306123-2.045893210692509e-09j)]\n"
     ]
    }
   ],
   "source": [
    "print x\n",
    "print s11"
   ]
  },
  {
   "cell_type": "code",
   "execution_count": 12,
   "metadata": {},
   "outputs": [
    {
     "name": "stdout",
     "output_type": "stream",
     "text": [
      "[1.040816326530397, 1.0408163265306123, 1.0408163265306123]\n",
      "[-6.628693940038696e-07, -7.3448132956773e-09, -2.045893210692509e-09]\n"
     ]
    }
   ],
   "source": [
    "def real(l):\n",
    "    r = []\n",
    "    for i in l:\n",
    "        r.append(i.real)\n",
    "    return r\n",
    "\n",
    "def phase(l):\n",
    "    p = []\n",
    "    for i in l:\n",
    "        p.append(i.imag)\n",
    "    return p\n",
    "\n",
    "print real(s11)\n",
    "print phase(s11)"
   ]
  },
  {
   "cell_type": "code",
   "execution_count": 13,
   "metadata": {
    "collapsed": true
   },
   "outputs": [],
   "source": [
    "plt.plot(x, real(s11))\n",
    "# plt.plot(x, phase(s11))\n",
    "plt.show()"
   ]
  },
  {
   "cell_type": "code",
   "execution_count": 14,
   "metadata": {
    "collapsed": true
   },
   "outputs": [],
   "source": [
    "def get_s_param_eqns(eqn):\n",
    "    return np.array([[eqn[0],  eqn[1]], [eqn[2], eqn[3]]])\n",
    "\n",
    "def graph_s(circuit_type):\n",
    "    f = np.linspace(3e8, 5e10, 500)\n",
    "    if circuit_type == 'Open' or circuit_type == 'open':\n",
    "        z = OpenModel(frequency=f, resistance=50, capacitance=.000047)\n",
    "    elif circuit_type == 'Short' or circuit_type == 'short':\n",
    "        z = ShortModel(frequency=f, resistance=50, inductance=.000910)\n",
    "    else:\n",
    "        z = TwoPortModel(frequency=f, resistance=0.1)\n",
    "    count = 0\n",
    "    s_data = [[], [], [], []]\n",
    "    for list1 in z.data():\n",
    "        for i in range(len(list1)):\n",
    "            if i > 0:\n",
    "                s_data[i - 1].append(list1[i])\n",
    "    refl_line = FunctionalModel(parameters=[\"z0\"], variables=\"z\", equation=\"(z0-z)/(z0+z)\")\n",
    "    tran_line = FunctionalModel(parameters=[\"z0\", \"s\"], variables=\"z\", equation=\"(z0/z)**(1/2)*(1-s)\")\n",
    "    eqns = []\n",
    "    for list1 in s_data:\n",
    "        if count == 0 or count == 3:\n",
    "            refl_line.fit_data(f, list1)\n",
    "            eqns.append(refl_line.equation)\n",
    "            plt.plot(f, list1, label=\"s11\" if count == 0 else \"s22\")\n",
    "            count += 1\n",
    "        else:\n",
    "            tran_line.fit_data(f, list1)\n",
    "            eqns.append(tran_line.equation)\n",
    "            plt.plot(f, list1, label=\"s12\" if count == 1 else \"s21\")\n",
    "            count += 1\n",
    "\n",
    "    # TODO fix this title because it's not happening\n",
    "    sympy.init_printing()\n",
    "    sympy.pprint(sympy.Matrix(get_s_param_eqns(eqns)), use_unicode=False)\n",
    "    print ' '\n",
    "    sympy.pprint(sympy.Matrix(get_s_param_eqns(eqns)), use_unicode=False)\n",
    "    plt.title(circuit_type + ' S Parameters')\n",
    "    plt.legend()\n",
    "    plt.show()\n"
   ]
  },
  {
   "cell_type": "code",
   "execution_count": 35,
   "metadata": {},
   "outputs": [
    {
     "name": "stdout",
     "output_type": "stream",
     "text": [
      "IPython console for SymPy 1.0 (Python 2.7.13-32-bit) (ground types: python)\n",
      "\n",
      "These commands were executed:\n",
      ">>> from __future__ import division\n",
      ">>> from sympy import *\n",
      ">>> x, y, z, t = symbols('x y z t')\n",
      ">>> k, m, n = symbols('k m n', integer=True)\n",
      ">>> f, g, h = symbols('f g h', cls=Function)\n",
      ">>> init_printing()\n",
      "\n",
      "Documentation can be found at http://docs.sympy.org/1.0/\n"
     ]
    }
   ],
   "source": [
    "Z, z, s = sympy.symbols('Z, z, s')\n",
    "sympy.init_session()"
   ]
  },
  {
   "cell_type": "code",
   "execution_count": 79,
   "metadata": {},
   "outputs": [
    {
     "data": {
      "text/latex": [
       "$$\\left[\\begin{matrix}\\frac{Z - z}{Z + z} & \\sqrt{\\frac{Z}{z}} \\left(- \\left|{s}\\right| + 1\\right)\\\\\\sqrt{\\frac{Z}{z}} \\left(- \\left|{s}\\right| + 1\\right) & \\frac{- Z + z}{Z + z}\\end{matrix}\\right]$$"
      ],
      "text/plain": [
       "⎡                        ___           ⎤\n",
       "⎢      Z - z            ╱ Z            ⎥\n",
       "⎢      ─────           ╱  ─ ⋅(-│s│ + 1)⎥\n",
       "⎢      Z + z         ╲╱   z            ⎥\n",
       "⎢                                      ⎥\n",
       "⎢    ___                               ⎥\n",
       "⎢   ╱ Z                    -Z + z      ⎥\n",
       "⎢  ╱  ─ ⋅(-│s│ + 1)        ──────      ⎥\n",
       "⎣╲╱   z                    Z + z       ⎦"
      ]
     },
     "execution_count": 79,
     "metadata": {},
     "output_type": "execute_result"
    }
   ],
   "source": [
    "eqn = Matrix([[(Z-z)/(Z+z), sqrt(Z/z)*(1-abs(s))], [sqrt(Z/z)*(1-abs(s)), (z-Z)/(Z+z)]])\n",
    "eqn"
   ]
  },
  {
   "cell_type": "code",
   "execution_count": 80,
   "metadata": {},
   "outputs": [
    {
     "data": {
      "image/png": "[encoded data removed]",
      "text/latex": [
       "$$2 \\pi f l$$"
      ],
      "text/plain": [
       "2⋅π⋅f⋅l"
      ]
     },
     "execution_count": 80,
     "metadata": {},
     "output_type": "execute_result"
    }
   ],
   "source": [
    "l = symbols('l')\n",
    "z_L = 2*pi*f*l\n",
    "z_L"
   ]
  },
  {
   "cell_type": "code",
   "execution_count": 83,
   "metadata": {},
   "outputs": [
    {
     "data": {
      "text/latex": [
       "$$\\left[\\begin{matrix}\\frac{- 2 \\pi f l + 50}{2 \\pi f l + 50} & \\frac{5}{\\sqrt{\\pi}} \\sqrt{\\frac{1}{f l}} \\left(- \\left|{\\frac{2 \\pi f l - 50}{2 \\pi f l + 50}}\\right| + 1\\right)\\\\\\frac{5}{\\sqrt{\\pi}} \\sqrt{\\frac{1}{f l}} \\left(- \\left|{\\frac{2 \\pi f l - 50}{2 \\pi f l + 50}}\\right| + 1\\right) & \\frac{2 \\pi f l - 50}{2 \\pi f l + 50}\\end{matrix}\\right]$$"
      ],
      "text/plain": [
       "⎡                                          _____                       ⎤\n",
       "⎢                                         ╱  1   ⎛  │2⋅π⋅f⋅l - 50│    ⎞⎥\n",
       "⎢                                    5⋅  ╱  ─── ⋅⎜- │────────────│ + 1⎟⎥\n",
       "⎢          -2⋅π⋅f⋅l + 50               ╲╱   f⋅l  ⎝  │2⋅π⋅f⋅l + 50│    ⎠⎥\n",
       "⎢          ─────────────             ──────────────────────────────────⎥\n",
       "⎢           2⋅π⋅f⋅l + 50                             √π                ⎥\n",
       "⎢                                                                      ⎥\n",
       "⎢      _____                                                           ⎥\n",
       "⎢     ╱  1   ⎛  │2⋅π⋅f⋅l - 50│    ⎞                                    ⎥\n",
       "⎢5⋅  ╱  ─── ⋅⎜- │────────────│ + 1⎟                                    ⎥\n",
       "⎢  ╲╱   f⋅l  ⎝  │2⋅π⋅f⋅l + 50│    ⎠             2⋅π⋅f⋅l - 50           ⎥\n",
       "⎢──────────────────────────────────             ────────────           ⎥\n",
       "⎣                √π                             2⋅π⋅f⋅l + 50           ⎦"
      ]
     },
     "execution_count": 83,
     "metadata": {},
     "output_type": "execute_result"
    }
   ],
   "source": [
    "for i in range(len(eqn)):\n",
    "    eqn[i] = eqn[i].subs(Z, 50)\n",
    "    eqn[i] = eqn[i].subs(z, z_L)\n",
    "    eqn[i] = eqn[i].subs(s, eqn[0] if i==1 else eqn[3])\n",
    "eqn"
   ]
  },
  {
   "cell_type": "code",
   "execution_count": 55,
   "metadata": {},
   "outputs": [
    {
     "data": {
      "text/latex": [
       "$$\\left[\\begin{matrix}\\frac{Z - 2 i \\pi f \\left(f^{2} l_{2} + f l_{1} + l_{0}\\right)}{Z + 2 i \\pi f \\left(f^{2} l_{2} + f l_{1} + l_{0}\\right)} & \\frac{\\sqrt{2}}{2 \\sqrt{\\pi}} \\sqrt{- \\frac{i Z}{f \\left(f^{2} l_{2} + f l_{1} + l_{0}\\right)}} \\left(- \\left|{\\frac{Z - 2 i \\pi f \\left(f^{2} l_{2} + f l_{1} + l_{0}\\right)}{Z + 2 i \\pi f \\left(f^{2} l_{2} + f l_{1} + l_{0}\\right)}}\\right| + 1\\right)\\\\\\frac{\\sqrt{2}}{2 \\sqrt{\\pi}} \\sqrt{- \\frac{i Z}{f \\left(f^{2} l_{2} + f l_{1} + l_{0}\\right)}} \\left(- \\left|{\\frac{Z - 2 i \\pi f \\left(f^{2} l_{2} + f l_{1} + l_{0}\\right)}{Z + 2 i \\pi f \\left(f^{2} l_{2} + f l_{1} + l_{0}\\right)}}\\right| + 1\\right) & \\frac{- Z + 2 i \\pi f \\left(f^{2} l_{2} + f l_{1} + l_{0}\\right)}{Z + 2 i \\pi f \\left(f^{2} l_{2} + f l_{1} + l_{0}\\right)}\\end{matrix}\\right]$$"
      ],
      "text/plain": [
       "⎡                                                                             \n",
       "⎢                                                                             \n",
       "⎢                                                                           √2\n",
       "⎢                                 ⎛ 2               ⎞                         \n",
       "⎢                     Z - 2⋅ⅈ⋅π⋅f⋅⎝f ⋅l₂ + f⋅l₁ + l₀⎠                         \n",
       "⎢                     ───────────────────────────────                       ──\n",
       "⎢                                 ⎛ 2               ⎞                         \n",
       "⎢                     Z + 2⋅ⅈ⋅π⋅f⋅⎝f ⋅l₂ + f⋅l₁ + l₀⎠                         \n",
       "⎢                                                                             \n",
       "⎢        _______________________ ⎛  │            ⎛ 2               ⎞│    ⎞    \n",
       "⎢       ╱         -ⅈ⋅Z           ⎜  │Z - 2⋅ⅈ⋅π⋅f⋅⎝f ⋅l₂ + f⋅l₁ + l₀⎠│    ⎟    \n",
       "⎢√2⋅   ╱  ───────────────────── ⋅⎜- │───────────────────────────────│ + 1⎟    \n",
       "⎢     ╱     ⎛ 2               ⎞  ⎜  │            ⎛ 2               ⎞│    ⎟    \n",
       "⎢   ╲╱    f⋅⎝f ⋅l₂ + f⋅l₁ + l₀⎠  ⎝  │Z + 2⋅ⅈ⋅π⋅f⋅⎝f ⋅l₂ + f⋅l₁ + l₀⎠│    ⎠    \n",
       "⎢─────────────────────────────────────────────────────────────────────────    \n",
       "⎢                                   2⋅√π                                      \n",
       "⎣                                                                             \n",
       "\n",
       "      _______________________ ⎛  │            ⎛ 2               ⎞│    ⎞⎤\n",
       "     ╱         -ⅈ⋅Z           ⎜  │Z - 2⋅ⅈ⋅π⋅f⋅⎝f ⋅l₂ + f⋅l₁ + l₀⎠│    ⎟⎥\n",
       "⋅   ╱  ───────────────────── ⋅⎜- │───────────────────────────────│ + 1⎟⎥\n",
       "   ╱     ⎛ 2               ⎞  ⎜  │            ⎛ 2               ⎞│    ⎟⎥\n",
       " ╲╱    f⋅⎝f ⋅l₂ + f⋅l₁ + l₀⎠  ⎝  │Z + 2⋅ⅈ⋅π⋅f⋅⎝f ⋅l₂ + f⋅l₁ + l₀⎠│    ⎠⎥\n",
       "───────────────────────────────────────────────────────────────────────⎥\n",
       "                                 2⋅√π                                  ⎥\n",
       "                                                                       ⎥\n",
       "                                                                       ⎥\n",
       "                                                                       ⎥\n",
       "                                                                       ⎥\n",
       "                                                                       ⎥\n",
       "                               ⎛ 2               ⎞                     ⎥\n",
       "                  -Z + 2⋅ⅈ⋅π⋅f⋅⎝f ⋅l₂ + f⋅l₁ + l₀⎠                     ⎥\n",
       "                  ────────────────────────────────                     ⎥\n",
       "                              ⎛ 2               ⎞                      ⎥\n",
       "                  Z + 2⋅ⅈ⋅π⋅f⋅⎝f ⋅l₂ + f⋅l₁ + l₀⎠                      ⎦"
      ]
     },
     "execution_count": 55,
     "metadata": {},
     "output_type": "execute_result"
    }
   ],
   "source": [
    "l0, l1, l2, f = sympy.symbols('l0 l1 l2 f')\n",
    "z_l = 2 * sympy.pi * sympy.I * (l0 + l1 * f + l2 * f ** 2)\n",
    "for i in range(len(eqn)):\n",
    "    eqn[i] = eqn[i].subs(z, z_l)\n",
    "eqn"
   ]
  },
  {
   "cell_type": "code",
   "execution_count": 18,
   "metadata": {
    "collapsed": true,
    "scrolled": true
   },
   "outputs": [],
   "source": [
    "def f(t):\n",
    "    return np.exp(-t) * np.cos(2*np.pi*t)\n",
    "\n",
    "t1 = np.arange(0.0, 5.0, 0.1)\n",
    "t2 = np.arange(0.0, 5.0, 0.02)\n",
    "\n",
    "plt.figure(1)\n",
    "plt.subplot(211)\n",
    "plt.plot(t1, f(t1), 'bo', t2, f(t2), 'k')\n",
    "plt.title('111')\n",
    "\n",
    "plt.subplot(212)\n",
    "plt.title('212')\n",
    "plt.plot(t2, np.cos(2*np.pi*t2), 'r--')\n",
    "plt.show()"
   ]
  },
  {
   "cell_type": "code",
   "execution_count": null,
   "metadata": {
    "collapsed": true
   },
   "outputs": [],
   "source": []
  },
  {
   "cell_type": "code",
   "execution_count": null,
   "metadata": {
    "collapsed": true
   },
   "outputs": [],
   "source": []
  }
 ],
 "metadata": {
  "kernelspec": {
   "display_name": "Python 2",
   "language": "python",
   "name": "python2"
  },
  "language_info": {
   "codemirror_mode": {
    "name": "ipython",
    "version": 2
   },
   "file_extension": ".py",
   "mimetype": "text/x-python",
   "name": "python",
   "nbconvert_exporter": "python",
   "pygments_lexer": "ipython2",
   "version": "2.7.13"
  }
 },
 "nbformat": 4,
 "nbformat_minor": 2
}
