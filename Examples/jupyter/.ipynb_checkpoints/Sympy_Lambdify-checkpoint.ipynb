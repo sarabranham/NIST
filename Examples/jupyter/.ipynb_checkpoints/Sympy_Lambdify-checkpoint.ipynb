{
 "cells": [
  {
   "cell_type": "markdown",
   "metadata": {},
   "source": [
    "   ## How to use lambdify"
   ]
  },
  {
   "cell_type": "code",
   "execution_count": 19,
   "metadata": {},
   "outputs": [
    {
     "data": {
      "text/plain": [
       "matrix([[1],\n",
       "        [2]])"
      ]
     },
     "execution_count": 19,
     "metadata": {},
     "output_type": "execute_result"
    }
   ],
   "source": [
    "from sympy import *\n",
    "# from sympy.abc import w, x, y, z\n",
    "# from sympy import lambdify, Matrix, sqrt, sin, Function\n",
    "# from sympy.utilities.lambdify import implemented_function\n",
    "import numpy as np\n",
    "array2mat = [{'ImmutableMatrix': numpy.matrix}, 'numpy']\n",
    "f = lambdify((x,y), Matrix([x, y]), modules=array2mat)\n",
    "f(1,2)"
   ]
  },
  {
   "cell_type": "code",
   "execution_count": 9,
   "metadata": {},
   "outputs": [
    {
     "data": {
      "text/plain": [
       "4"
      ]
     },
     "execution_count": 9,
     "metadata": {},
     "output_type": "execute_result"
    }
   ],
   "source": [
    "# Lambdify applies whatever function you define to the input\n",
    "f = lambdify(x, x**2)\n",
    "f(2)"
   ]
  },
  {
   "cell_type": "code",
   "execution_count": 6,
   "metadata": {},
   "outputs": [
    {
     "data": {
      "text/plain": [
       "[3, 2, 1]"
      ]
     },
     "execution_count": 6,
     "metadata": {},
     "output_type": "execute_result"
    }
   ],
   "source": [
    "# it works with arrays\n",
    "f = lambdify((x, y, z), [z, y, x])\n",
    "f(1, 2, 3)"
   ]
  },
  {
   "cell_type": "code",
   "execution_count": 10,
   "metadata": {},
   "outputs": [
    {
     "data": {
      "text/plain": [
       "0.4999999999999999"
      ]
     },
     "execution_count": 10,
     "metadata": {},
     "output_type": "execute_result"
    }
   ],
   "source": [
    "# and trig\n",
    "f = lambdify((x, y), sin(x*y)**2)\n",
    "f(1, pi/4)"
   ]
  },
  {
   "cell_type": "code",
   "execution_count": 12,
   "metadata": {},
   "outputs": [
    {
     "data": {
      "text/plain": [
       "Matrix([[1, 3]])"
      ]
     },
     "execution_count": 12,
     "metadata": {},
     "output_type": "execute_result"
    }
   ],
   "source": [
    "# you can use it to define matrices\n",
    "row = lambdify((x, y), Matrix((x, x+y)).T, modules='sympy')\n",
    "row(1,2)"
   ]
  },
  {
   "cell_type": "code",
   "execution_count": 13,
   "metadata": {},
   "outputs": [
    {
     "data": {
      "text/plain": [
       "10"
      ]
     },
     "execution_count": 13,
     "metadata": {},
     "output_type": "execute_result"
    }
   ],
   "source": [
    "# or work around weird parenthesis?\n",
    "args = w, (x, (y, z))\n",
    "vals = 1, (2, (3, 4))\n",
    "f = lambdify(flatten(args), w + x + y + z)\n",
    "f(*flatten(vals))"
   ]
  },
  {
   "cell_type": "code",
   "execution_count": 14,
   "metadata": {},
   "outputs": [
    {
     "data": {
      "text/plain": [
       "5"
      ]
     },
     "execution_count": 14,
     "metadata": {},
     "output_type": "execute_result"
    }
   ],
   "source": [
    "# you can also use lambda functions instead of lambdify to produce the same result\n",
    "f = implemented_function(Function('f'), lambda x: x+1)\n",
    "func = lambdify(x, f(x))\n",
    "func(4)"
   ]
  },
  {
   "cell_type": "code",
   "execution_count": 16,
   "metadata": {},
   "outputs": [
    {
     "data": {
      "text/plain": [
       "0.7071067811865475"
      ]
     },
     "execution_count": 16,
     "metadata": {},
     "output_type": "execute_result"
    }
   ],
   "source": [
    "# you can add a string to specify what library to use - ex: this uses the sin(x) found in the math library\n",
    "f = lambdify(x, sin(x), \"math\")\n",
    "f(pi/4)"
   ]
  },
  {
   "cell_type": "code",
   "execution_count": 20,
   "metadata": {},
   "outputs": [
    {
     "data": {
      "text/plain": [
       "array([-2.18503986, -0.29100619, -0.8559934 ])"
      ]
     },
     "execution_count": 20,
     "metadata": {},
     "output_type": "execute_result"
    }
   ],
   "source": [
    "# this one uses tan found in numpy\n",
    "f = lambdify((x, y), tan(x*y), 'numpy')\n",
    "c = [1, 2, 3]\n",
    "p = np.array([2, 3, 5])\n",
    "f(c, p)"
   ]
  },
  {
   "cell_type": "code",
   "execution_count": 22,
   "metadata": {},
   "outputs": [
    {
     "data": {
      "text/plain": [
       "'sin(1) is cool'"
      ]
     },
     "execution_count": 22,
     "metadata": {},
     "output_type": "execute_result"
    }
   ],
   "source": [
    "# you can also define your own function\n",
    "def my_cool_function(x): return 'sin(%s) is cool' % x\n",
    "myfuncs = {\"sin\" : my_cool_function}\n",
    "f = lambdify(x, sin(x), myfuncs)\n",
    "f(1)"
   ]
  }
 ],
 "metadata": {
  "kernelspec": {
   "display_name": "Python 2",
   "language": "python",
   "name": "python2"
  }
 },
 "nbformat": 4,
 "nbformat_minor": 2
}
