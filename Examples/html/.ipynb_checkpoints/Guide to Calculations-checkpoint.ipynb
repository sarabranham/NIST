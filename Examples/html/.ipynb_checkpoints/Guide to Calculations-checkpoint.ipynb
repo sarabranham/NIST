{
 "cells": [
  {
   "cell_type": "markdown",
   "metadata": {},
   "source": [
    "## The purpose of this is to explain all of the calculation functions"
   ]
  },
  {
   "cell_type": "code",
   "execution_count": 2,
   "metadata": {},
   "outputs": [],
   "source": [
    "import sys\n",
    "sys.path.append(r\"C:\\ProgramData\\Anaconda2\\Lib\\site-packages\\pyMeasure\\Documentation\\SaraProject\\NIST\")\n",
    "from TwoPortModels import *"
   ]
  },
  {
   "cell_type": "code",
   "execution_count": 3,
   "metadata": {},
   "outputs": [
    {
     "name": "stdout",
     "output_type": "stream",
     "text": [
      "(0.0, 1.0, 1.0, 0.0)\n"
     ]
    }
   ],
   "source": [
    "# calc_s() just returns [s11, s12, s21, s22] for one impedance\n",
    "print(TwoPortModel().calc_s(TwoPortModel().z))"
   ]
  },
  {
   "cell_type": "code",
   "execution_count": 4,
   "metadata": {},
   "outputs": [
    {
     "name": "stdout",
     "output_type": "stream",
     "text": [
      "[[18000000000.0, 0.0, 1.0, 1.0, 0.0], [18500000000.0, 0.0, 1.0, 1.0, 0.0], [19000000000.0, 0.0, 1.0, 1.0, 0.0]]\n"
     ]
    }
   ],
   "source": [
    "# data() returns [[f1, s11, s12, s21, s22], ... [fn, s11, s12, s21, s22]]\n",
    "print(TwoPortModel(frequency=np.linspace(18E9, 19E9, 3)).data())"
   ]
  },
  {
   "cell_type": "code",
   "execution_count": 6,
   "metadata": {},
   "outputs": [
    {
     "name": "stdout",
     "output_type": "stream",
     "text": [
      "[[ 0.  0.  0.]\n",
      " [ 1.  1.  1.]\n",
      " [ 1.  1.  1.]\n",
      " [ 0.  0.  0.]]\n"
     ]
    }
   ],
   "source": [
    "# s_params() returns an np.array of [[s11], [s12], [s21], [s22]]\n",
    "# this is mainly used in plot_params - accessing s11 in data() requires nested for loops which is annoying to rewrite\n",
    "print(TwoPortModel(frequency=np.linspace(18E9, 19E9, 3)).s_parameters())"
   ]
  },
  {
   "cell_type": "code",
   "execution_count": 7,
   "metadata": {},
   "outputs": [
    {
     "name": "stdout",
     "output_type": "stream",
     "text": [
      "(0.99999864549076323, 0.0016459090616268556, 0.0016459090616268556, -0.99999864549076323)\n"
     ]
    }
   ],
   "source": [
    "# these functions also work for other classes lower on the hierarchy thanks to sympy.subs\n",
    "# the only difference with Open and Short Models is that impedance is not constant\n",
    "print(OpenModel().calc_s(OpenModel().z[0]))"
   ]
  },
  {
   "cell_type": "code",
   "execution_count": 8,
   "metadata": {},
   "outputs": [
    {
     "name": "stdout",
     "output_type": "stream",
     "text": [
      "[[18000000000.0, 0.99999999, 0.00012268, 0.00012268, -0.99999999], [18500000000.0, 0.99999999, 0.00012101, 0.00012101, -0.99999999], [19000000000.0, 0.99999999, 0.00011941, 0.00011941, -0.99999999]]\n"
     ]
    }
   ],
   "source": [
    "# it's also more relevant that data() cuts all values off at the 8th decimal\n",
    "print(OpenModel(frequency=np.linspace(18E9, 19E9, 3)).data())"
   ]
  },
  {
   "cell_type": "code",
   "execution_count": 9,
   "metadata": {},
   "outputs": [
    {
     "name": "stdout",
     "output_type": "stream",
     "text": [
      "Default parameter input l0=l1=l2=1e-09\n",
      "[[18000000000.0, (-1-4.912189601328809e-11j), 0j, 0j, (1+4.912189601328809e-11j)], [18500000000.0, (-1-4.650253998050909e-11j), 0j, 0j, (1+4.650253998050909e-11j)], [19000000000.0, (-1-4.408724185139025e-11j), 0j, 0j, (1+4.408724185139025e-11j)]]\n"
     ]
    }
   ],
   "source": [
    "# Short and Open models also have complex calculations, which operate the same way\n",
    "print(ShortModel(complex=True, frequency=np.linspace(18E9, 19E9, 3)).data())"
   ]
  },
  {
   "cell_type": "code",
   "execution_count": 10,
   "metadata": {},
   "outputs": [
    {
     "name": "stdout",
     "output_type": "stream",
     "text": [
      "Default parameter input l0=l1=l2=1e-09\n",
      "((-1-4.912189601328809e-11j), 0j, 0j, (1+4.912189601328809e-11j))\n"
     ]
    }
   ],
   "source": [
    "mod = ShortModel(complex=True, frequency=np.linspace(18E9, 19E9, 3))\n",
    "print(mod.complex_calc_s(mod.z[0]))"
   ]
  },
  {
   "cell_type": "markdown",
   "metadata": {},
   "source": [
    "### There are also a lot of setters that automatically recalculate values"
   ]
  },
  {
   "cell_type": "code",
   "execution_count": 11,
   "metadata": {},
   "outputs": [
    {
     "name": "stdout",
     "output_type": "stream",
     "text": [
      "[array([  1.80000000e+10,   1.85000000e+10,   1.90000000e+10]), [(2035752039639.2832+1j), (2150420171498.4524+1j), (2268229896011.211+1j)]]\n",
      "[array([  1.90000000e+10,   1.95000000e+10,   2.00000000e+10]), [(2268229896011.211+1j), (2389181213177.5596+1j), (2513274122997.498+1j)]]\n"
     ]
    }
   ],
   "source": [
    "# for example, set_freq() will change frequency and recalculate impedance for short/open\n",
    "old_vars = [mod.f, mod.z]\n",
    "mod.set_frequency(np.linspace(19E9, 20E9, 3))\n",
    "print(old_vars)\n",
    "print([mod.f, mod.z])"
   ]
  },
  {
   "cell_type": "code",
   "execution_count": 12,
   "metadata": {},
   "outputs": [
    {
     "name": "stdout",
     "output_type": "stream",
     "text": [
      "[1e-09, 1e-09, 1e-09, [(2268229896011.211+1j), (2389181213177.5596+1j), (2513274122997.498+1j)]]\n",
      "[1e-12, 1e-21, 1e-30, [(2.3938936020354224e-09+1j), (2.5179865118522194e-09+1j), (2.645221014322606e-09+1j)]]\n"
     ]
    }
   ],
   "source": [
    "# set_complex_coefs() and set_l()/set_c() will also do this\n",
    "old_vars = [mod.l0, mod.l1, mod.l2, mod.z]\n",
    "mod.set_complex_coefficients(1E-12, 1E-21, 1E-30)\n",
    "print(old_vars)\n",
    "print([mod.l0, mod.l1, mod.l2, mod.z])"
   ]
  }
 ],
 "metadata": {
  "kernelspec": {
   "display_name": "Python 2",
   "language": "python",
   "name": "python2"
  },
  "language_info": {
   "codemirror_mode": {
    "name": "ipython",
    "version": 2
   },
   "file_extension": ".py",
   "mimetype": "text/x-python",
   "name": "python",
   "nbconvert_exporter": "python",
   "pygments_lexer": "ipython2",
   "version": "2.7.13"
  }
 },
 "nbformat": 4,
 "nbformat_minor": 2
}
