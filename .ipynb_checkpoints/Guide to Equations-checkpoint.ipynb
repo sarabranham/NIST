{
 "cells": [
  {
   "cell_type": "markdown",
   "metadata": {},
   "source": [
    "# Equations!\n",
    "There are a few ways to use them - some are prettier than others."
   ]
  },
  {
   "cell_type": "markdown",
   "metadata": {},
   "source": [
    "## Displaying"
   ]
  },
  {
   "cell_type": "code",
   "execution_count": 3,
   "metadata": {},
   "outputs": [],
   "source": [
    "from TwoPortModels import *"
   ]
  },
  {
   "cell_type": "code",
   "execution_count": 5,
   "metadata": {},
   "outputs": [
    {
     "name": "stdout",
     "output_type": "stream",
     "text": [
      "[                                                                             \n",
      "[                  -zeta + 50.0                                      /  |zeta \n",
      "[                  ------------                     7.07106781186548*|- |-----\n",
      "[                  zeta + 50.0                                       \\  |zeta \n",
      "[                                                                             \n",
      "[                                           ______                            \n",
      "[                 /  |zeta - 50.0|    \\    /  1                        zeta - \n",
      "[7.07106781186548*|- |-----------| + 1|*  /  ----                      -------\n",
      "[                 \\  |zeta + 50.0|    / \\/   zeta                      zeta + \n",
      "\n",
      "                 ______]\n",
      "- 50.0|    \\    /  1   ]\n",
      "------| + 1|*  /  ---- ]\n",
      "+ 50.0|    / \\/   zeta ]\n",
      "                       ]\n",
      "                       ]\n",
      "50.0                   ]\n",
      "----                   ]\n",
      "50.0                   ]\n"
     ]
    }
   ],
   "source": [
    "# Ugly way\n",
    "TwoPortModel().get_eqns()"
   ]
  },
  {
   "cell_type": "code",
   "execution_count": 6,
   "metadata": {},
   "outputs": [
    {
     "data": {
      "text/latex": [
       "$$\\left[\\begin{matrix}\\frac{- \\zeta + 50.0}{\\zeta + 50.0} & 7.07106781186548 \\left(- \\left|{\\frac{\\zeta - 50.0}{\\zeta + 50.0}}\\right| + 1\\right) \\sqrt{\\frac{1}{\\zeta}}\\\\7.07106781186548 \\left(- \\left|{\\frac{\\zeta - 50.0}{\\zeta + 50.0}}\\right| + 1\\right) \\sqrt{\\frac{1}{\\zeta}} & \\frac{\\zeta - 50.0}{\\zeta + 50.0}\\end{matrix}\\right]$$"
      ],
      "text/plain": [
       "⎡                                                                             \n",
       "⎢                 -ζ + 50.0                                    ⎛  │ζ - 50.0│  \n",
       "⎢                 ─────────                   7.07106781186548⋅⎜- │────────│ +\n",
       "⎢                  ζ + 50.0                                    ⎝  │ζ + 50.0│  \n",
       "⎢                                                                             \n",
       "⎢                                        ___                                  \n",
       "⎢                 ⎛  │ζ - 50.0│    ⎞    ╱ 1                    ζ - 50.0       \n",
       "⎢7.07106781186548⋅⎜- │────────│ + 1⎟⋅  ╱  ─                    ────────       \n",
       "⎣                 ⎝  │ζ + 50.0│    ⎠ ╲╱   ζ                    ζ + 50.0       \n",
       "\n",
       "        ___⎤\n",
       "  ⎞    ╱ 1 ⎥\n",
       " 1⎟⋅  ╱  ─ ⎥\n",
       "  ⎠ ╲╱   ζ ⎥\n",
       "           ⎥\n",
       "           ⎥\n",
       "           ⎥\n",
       "           ⎥\n",
       "           ⎦"
      ]
     },
     "execution_count": 6,
     "metadata": {},
     "output_type": "execute_result"
    }
   ],
   "source": [
    "# Pretty Way\n",
    "TwoPortModel().equation_list"
   ]
  },
  {
   "cell_type": "markdown",
   "metadata": {},
   "source": [
    "<b>What is the point of having two?</b> <br>\n",
    "LaTeX doesn't work in the PyCharm console so you have to make do with ASCII or bounce between JN and back."
   ]
  },
  {
   "cell_type": "markdown",
   "metadata": {},
   "source": [
    "## Substitution\n",
    "OpenModel and ShortModel both use sympy substitution to replace different elements - which is helpful when dealing with complex equations."
   ]
  },
  {
   "cell_type": "code",
   "execution_count": 9,
   "metadata": {},
   "outputs": [
    {
     "data": {
      "text/latex": [
       "$$\\left[\\begin{matrix}\\frac{50.0 - \\frac{1}{2 \\pi c f}}{50.0 + \\frac{1}{2 \\pi c f}} & 7.07106781186548 \\sqrt{2} \\sqrt{\\pi} \\sqrt{c f} \\left(- \\left|{\\frac{50.0 - \\frac{1}{2 \\pi c f}}{50.0 + \\frac{1}{2 \\pi c f}}}\\right| + 1\\right)\\\\7.07106781186548 \\sqrt{2} \\sqrt{\\pi} \\sqrt{c f} \\left(- \\left|{\\frac{50.0 - \\frac{1}{2 \\pi c f}}{50.0 + \\frac{1}{2 \\pi c f}}}\\right| + 1\\right) & \\frac{-50.0 + \\frac{1}{2 \\pi c f}}{50.0 + \\frac{1}{2 \\pi c f}}\\end{matrix}\\right]$$"
      ],
      "text/plain": [
       "⎡                              1                                              \n",
       "⎢                    50.0 - ───────                                           \n",
       "⎢                           2⋅π⋅c⋅f                                           \n",
       "⎢                    ──────────────                       7.07106781186548⋅√2⋅\n",
       "⎢                              1                                              \n",
       "⎢                    50.0 + ───────                                           \n",
       "⎢                           2⋅π⋅c⋅f                                           \n",
       "⎢                                                                             \n",
       "⎢                               ⎛  │          1   │    ⎞                      \n",
       "⎢                               ⎜  │50.0 - ───────│    ⎟                      \n",
       "⎢                         _____ ⎜  │       2⋅π⋅c⋅f│    ⎟                      \n",
       "⎢7.07106781186548⋅√2⋅√π⋅╲╱ c⋅f ⋅⎜- │──────────────│ + 1⎟                      \n",
       "⎢                               ⎜  │          1   │    ⎟                      \n",
       "⎢                               ⎜  │50.0 + ───────│    ⎟                      \n",
       "⎣                               ⎝  │       2⋅π⋅c⋅f│    ⎠                      \n",
       "\n",
       "           ⎛  │          1   │    ⎞⎤\n",
       "           ⎜  │50.0 - ───────│    ⎟⎥\n",
       "     _____ ⎜  │       2⋅π⋅c⋅f│    ⎟⎥\n",
       "√π⋅╲╱ c⋅f ⋅⎜- │──────────────│ + 1⎟⎥\n",
       "           ⎜  │          1   │    ⎟⎥\n",
       "           ⎜  │50.0 + ───────│    ⎟⎥\n",
       "           ⎝  │       2⋅π⋅c⋅f│    ⎠⎥\n",
       "                                   ⎥\n",
       "           1                       ⎥\n",
       "-50.0 + ───────                    ⎥\n",
       "        2⋅π⋅c⋅f                    ⎥\n",
       "───────────────                    ⎥\n",
       "           1                       ⎥\n",
       " 50.0 + ───────                    ⎥\n",
       "        2⋅π⋅c⋅f                    ⎦"
      ]
     },
     "execution_count": 9,
     "metadata": {},
     "output_type": "execute_result"
    }
   ],
   "source": [
    "OpenModel().equation_list"
   ]
  },
  {
   "cell_type": "code",
   "execution_count": 10,
   "metadata": {},
   "outputs": [
    {
     "name": "stdout",
     "output_type": "stream",
     "text": [
      "Default parameter input c0=c1=c2=1e-12\n"
     ]
    },
    {
     "data": {
      "text/latex": [
       "$$\\left[\\begin{matrix}\\frac{50.0 + \\frac{i}{2 \\pi \\left(c_{0} + c_{1} f + c_{2} f^{2}\\right)}}{50.0 - \\frac{i}{2 \\pi \\left(c_{0} + c_{1} f + c_{2} f^{2}\\right)}} & 7.07106781186548 \\sqrt{2} \\sqrt{\\pi} \\sqrt{i \\left(c_{0} + c_{1} f + c_{2} f^{2}\\right)} \\left(- \\left|{\\frac{50.0 + \\frac{i}{2 \\pi \\left(c_{0} + c_{1} f + c_{2} f^{2}\\right)}}{50.0 - \\frac{i}{2 \\pi \\left(c_{0} + c_{1} f + c_{2} f^{2}\\right)}}}\\right| + 1\\right)\\\\7.07106781186548 \\sqrt{2} \\sqrt{\\pi} \\sqrt{i \\left(c_{0} + c_{1} f + c_{2} f^{2}\\right)} \\left(- \\left|{\\frac{50.0 + \\frac{i}{2 \\pi \\left(c_{0} + c_{1} f + c_{2} f^{2}\\right)}}{50.0 - \\frac{i}{2 \\pi \\left(c_{0} + c_{1} f + c_{2} f^{2}\\right)}}}\\right| + 1\\right) & \\frac{-50.0 - \\frac{i}{2 \\pi \\left(c_{0} + c_{1} f + c_{2} f^{2}\\right)}}{50.0 - \\frac{i}{2 \\pi \\left(c_{0} + c_{1} f + c_{2} f^{2}\\right)}}\\end{matrix}\\right]$$"
      ],
      "text/plain": [
       "⎡                                                ⅈ                            \n",
       "⎢                              50.0 + ───────────────────────                 \n",
       "⎢                                         ⎛                2⎞                 \n",
       "⎢                                     2⋅π⋅⎝c₀ + c₁⋅f + c₂⋅f ⎠                 \n",
       "⎢                              ──────────────────────────────                 \n",
       "⎢                                                ⅈ                            \n",
       "⎢                              50.0 - ───────────────────────                 \n",
       "⎢                                         ⎛                2⎞                 \n",
       "⎢                                     2⋅π⋅⎝c₀ + c₁⋅f + c₂⋅f ⎠                 \n",
       "⎢                                                                             \n",
       "⎢                                                  ⎛  │                  ⅈ    \n",
       "⎢                                                  ⎜  │50.0 + ────────────────\n",
       "⎢                          _______________________ ⎜  │           ⎛           \n",
       "⎢                         ╱   ⎛                2⎞  ⎜  │       2⋅π⋅⎝c₀ + c₁⋅f +\n",
       "⎢7.07106781186548⋅√2⋅√π⋅╲╱  ⅈ⋅⎝c₀ + c₁⋅f + c₂⋅f ⎠ ⋅⎜- │───────────────────────\n",
       "⎢                                                  ⎜  │                  ⅈ    \n",
       "⎢                                                  ⎜  │50.0 - ────────────────\n",
       "⎢                                                  ⎜  │           ⎛           \n",
       "⎣                                                  ⎝  │       2⋅π⋅⎝c₀ + c₁⋅f +\n",
       "\n",
       "                                                                 ⎛  │         \n",
       "                                                                 ⎜  │50.0 + ──\n",
       "                                         _______________________ ⎜  │         \n",
       "                                        ╱   ⎛                2⎞  ⎜  │       2⋅\n",
       "               7.07106781186548⋅√2⋅√π⋅╲╱  ⅈ⋅⎝c₀ + c₁⋅f + c₂⋅f ⎠ ⋅⎜- │─────────\n",
       "                                                                 ⎜  │         \n",
       "                                                                 ⎜  │50.0 - ──\n",
       "                                                                 ⎜  │         \n",
       "                                                                 ⎝  │       2⋅\n",
       "                                                                              \n",
       "       │    ⎞                                                  ⅈ              \n",
       "───────│    ⎟                               -50.0 - ───────────────────────   \n",
       "     2⎞│    ⎟                                           ⎛                2⎞   \n",
       " c₂⋅f ⎠│    ⎟                                       2⋅π⋅⎝c₀ + c₁⋅f + c₂⋅f ⎠   \n",
       "───────│ + 1⎟                               ───────────────────────────────   \n",
       "       │    ⎟                                                  ⅈ              \n",
       "───────│    ⎟                                50.0 - ───────────────────────   \n",
       "     2⎞│    ⎟                                           ⎛                2⎞   \n",
       " c₂⋅f ⎠│    ⎠                                       2⋅π⋅⎝c₀ + c₁⋅f + c₂⋅f ⎠   \n",
       "\n",
       "         ⅈ           │    ⎞⎤\n",
       "─────────────────────│    ⎟⎥\n",
       "  ⎛                2⎞│    ⎟⎥\n",
       "π⋅⎝c₀ + c₁⋅f + c₂⋅f ⎠│    ⎟⎥\n",
       "─────────────────────│ + 1⎟⎥\n",
       "         ⅈ           │    ⎟⎥\n",
       "─────────────────────│    ⎟⎥\n",
       "  ⎛                2⎞│    ⎟⎥\n",
       "π⋅⎝c₀ + c₁⋅f + c₂⋅f ⎠│    ⎠⎥\n",
       "                           ⎥\n",
       "                           ⎥\n",
       "                           ⎥\n",
       "                           ⎥\n",
       "                           ⎥\n",
       "                           ⎥\n",
       "                           ⎥\n",
       "                           ⎥\n",
       "                           ⎥\n",
       "                           ⎦"
      ]
     },
     "execution_count": 10,
     "metadata": {},
     "output_type": "execute_result"
    }
   ],
   "source": [
    "OpenModel(complex=True).equation_list"
   ]
  },
  {
   "cell_type": "markdown",
   "metadata": {},
   "source": [
    "### How does it work?"
   ]
  },
  {
   "cell_type": "code",
   "execution_count": 12,
   "metadata": {},
   "outputs": [
    {
     "name": "stdout",
     "output_type": "stream",
     "text": [
      "Default parameter input l0=l1=l2=1e-09\n"
     ]
    },
    {
     "data": {
      "image/png": "[encoded data removed]",
      "text/latex": [
       "$$\\frac{3.53553390593274 \\sqrt{2}}{\\sqrt{\\pi}} \\sqrt{- \\frac{i}{f^{2} l_{2} + f l_{1} + l_{0}}} \\left(- \\left|{\\frac{2 i \\pi \\left(f^{2} l_{2} + f l_{1} + l_{0}\\right) - 50.0}{2 i \\pi \\left(f^{2} l_{2} + f l_{1} + l_{0}\\right) + 50.0}}\\right| + 1\\right)$$"
      ],
      "text/plain": [
       "                         ___________________ ⎛  │      ⎛ 2               ⎞    \n",
       "                        ╱        -ⅈ          ⎜  │2⋅ⅈ⋅π⋅⎝f ⋅l₂ + f⋅l₁ + l₀⎠ - 5\n",
       "3.53553390593274⋅√2⋅   ╱  ───────────────── ⋅⎜- │─────────────────────────────\n",
       "                      ╱    2                 ⎜  │      ⎛ 2               ⎞    \n",
       "                    ╲╱    f ⋅l₂ + f⋅l₁ + l₀  ⎝  │2⋅ⅈ⋅π⋅⎝f ⋅l₂ + f⋅l₁ + l₀⎠ + 5\n",
       "──────────────────────────────────────────────────────────────────────────────\n",
       "                                           √π                                 \n",
       "\n",
       "   │    ⎞\n",
       "0.0│    ⎟\n",
       "───│ + 1⎟\n",
       "   │    ⎟\n",
       "0.0│    ⎠\n",
       "─────────\n",
       "         "
      ]
     },
     "execution_count": 12,
     "metadata": {},
     "output_type": "execute_result"
    }
   ],
   "source": [
    "ShortModel(complex=True).equation_list[1]"
   ]
  },
  {
   "cell_type": "code",
   "execution_count": 13,
   "metadata": {},
   "outputs": [
    {
     "name": "stdout",
     "output_type": "stream",
     "text": [
      "Default parameter input l0=l1=l2=1e-09\n"
     ]
    },
    {
     "data": {
      "image/png": "[encoded data removed]",
      "text/latex": [
       "$$\\frac{3.53553390593274 \\sqrt{2}}{\\sqrt{\\pi}} \\sqrt{- \\frac{i}{L}} \\left(- \\left|{\\frac{2 i \\pi L - 50.0}{2 i \\pi L + 50.0}}\\right| + 1\\right)$$"
      ],
      "text/plain": [
       "                        _____                         \n",
       "                       ╱ -ⅈ   ⎛  │2⋅ⅈ⋅π⋅L - 50.0│    ⎞\n",
       "3.53553390593274⋅√2⋅  ╱  ─── ⋅⎜- │──────────────│ + 1⎟\n",
       "                    ╲╱    L   ⎝  │2⋅ⅈ⋅π⋅L + 50.0│    ⎠\n",
       "──────────────────────────────────────────────────────\n",
       "                          √π                          "
      ]
     },
     "execution_count": 13,
     "metadata": {},
     "output_type": "execute_result"
    }
   ],
   "source": [
    "l0, l1, l2, L = sympy.symbols('l0 l1 l2 L')\n",
    "ShortModel(complex=True).equation_list[1].subs(l0 + l1*f + l2*f**2, L)"
   ]
  },
  {
   "cell_type": "markdown",
   "metadata": {},
   "source": [
    "## Separation\n",
    "Sometimes you want to separate the real and imaginary components of an equation"
   ]
  },
  {
   "cell_type": "code",
   "execution_count": 17,
   "metadata": {},
   "outputs": [
    {
     "name": "stdout",
     "output_type": "stream",
     "text": [
      "Default parameter input l0=l1=l2=1e-09\n"
     ]
    },
    {
     "data": {
      "image/png": "[encoded data removed]",
      "text/latex": [
       "$$\\frac{- 2 i \\pi \\left(f^{2} l_{2} + f l_{1} + l_{0}\\right) + 50.0}{2 i \\pi \\left(f^{2} l_{2} + f l_{1} + l_{0}\\right) + 50.0}$$"
      ],
      "text/plain": [
       "        ⎛ 2               ⎞       \n",
       "- 2⋅ⅈ⋅π⋅⎝f ⋅l₂ + f⋅l₁ + l₀⎠ + 50.0\n",
       "──────────────────────────────────\n",
       "       ⎛ 2               ⎞        \n",
       " 2⋅ⅈ⋅π⋅⎝f ⋅l₂ + f⋅l₁ + l₀⎠ + 50.0 "
      ]
     },
     "execution_count": 17,
     "metadata": {},
     "output_type": "execute_result"
    }
   ],
   "source": [
    "m = ShortModel(complex=True)\n",
    "m.equation_list[0]"
   ]
  },
  {
   "cell_type": "code",
   "execution_count": 19,
   "metadata": {},
   "outputs": [
    {
     "data": {
      "image/png": "[encoded data removed]",
      "text/latex": [
       "$$- \\frac{200.0 \\pi L}{4.0 \\pi^{2} L^{2} + 2500.0} + \\frac{- 4.0 \\pi^{2} L^{2} + 2500.0}{4.0 \\pi^{2} L^{2} + 2500.0}$$"
      ],
      "text/plain": [
       "                              2  2         \n",
       "      200.0⋅π⋅L        - 4.0⋅π ⋅L  + 2500.0\n",
       "- ────────────────── + ────────────────────\n",
       "       2  2                  2  2          \n",
       "  4.0⋅π ⋅L  + 2500.0    4.0⋅π ⋅L  + 2500.0 "
      ]
     },
     "execution_count": 19,
     "metadata": {},
     "output_type": "execute_result"
    }
   ],
   "source": [
    "separate_imag(m.equation_list[0], 'short')[1] + separate_imag(m.equation_list[0], 'short')[3]"
   ]
  },
  {
   "cell_type": "markdown",
   "metadata": {},
   "source": [
    "#### Cool! Fun Fact - this only works with S11/S22, things get jumbled with S12/S21"
   ]
  },
  {
   "cell_type": "code",
   "execution_count": null,
   "metadata": {
    "collapsed": true
   },
   "outputs": [],
   "source": []
  }
 ],
 "metadata": {
  "kernelspec": {
   "display_name": "Python 2",
   "language": "python",
   "name": "python2"
  },
  "language_info": {
   "codemirror_mode": {
    "name": "ipython",
    "version": 2
   },
   "file_extension": ".py",
   "mimetype": "text/x-python",
   "name": "python",
   "nbconvert_exporter": "python",
   "pygments_lexer": "ipython2",
   "version": "2.7.13"
  }
 },
 "nbformat": 4,
 "nbformat_minor": 2
}
